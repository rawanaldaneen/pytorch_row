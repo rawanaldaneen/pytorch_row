{
  "nbformat": 4,
  "nbformat_minor": 0,
  "metadata": {
    "colab": {
      "provenance": [],
      "authorship_tag": "ABX9TyNn2icqMMLlJPJIY+35edTB",
      "include_colab_link": true
    },
    "kernelspec": {
      "name": "python3",
      "display_name": "Python 3"
    },
    "language_info": {
      "name": "python"
    }
  },
  "cells": [
    {
      "cell_type": "markdown",
      "metadata": {
        "id": "view-in-github",
        "colab_type": "text"
      },
      "source": [
        "<a href=\"https://colab.research.google.com/github/rawanaldaneen/pytorch_row/blob/main/00_Pytorch_tensors.ipynb\" target=\"_parent\"><img src=\"https://colab.research.google.com/assets/colab-badge.svg\" alt=\"Open In Colab\"/></a>"
      ]
    },
    {
      "cell_type": "code",
      "execution_count": 1,
      "metadata": {
        "colab": {
          "base_uri": "https://localhost:8080/"
        },
        "id": "EsE4e2DmsnjW",
        "outputId": "903790ce-5fbc-4ba0-8c06-2cf34b619692"
      },
      "outputs": [
        {
          "output_type": "stream",
          "name": "stdout",
          "text": [
            "2.5.0+cu121\n"
          ]
        }
      ],
      "source": [
        "import torch\n",
        "import pandas as pd\n",
        "import numpy as np\n",
        "import matplotlib.pyplot as plt\n",
        "import seaborn as sns\n",
        "import sklearn\n",
        "print(torch.__version__)\n"
      ]
    },
    {
      "cell_type": "code",
      "source": [
        "# Scalar\n",
        "scalar = torch.tensor(7)\n",
        "scalar"
      ],
      "metadata": {
        "colab": {
          "base_uri": "https://localhost:8080/"
        },
        "id": "p5hfQRNdvVv6",
        "outputId": "cf9fd0dd-d814-4c19-e5c6-8effd5fd70ac"
      },
      "execution_count": null,
      "outputs": [
        {
          "output_type": "execute_result",
          "data": {
            "text/plain": [
              "tensor(7)"
            ]
          },
          "metadata": {},
          "execution_count": 2
        }
      ]
    },
    {
      "cell_type": "code",
      "source": [
        "scalar.ndim"
      ],
      "metadata": {
        "colab": {
          "base_uri": "https://localhost:8080/"
        },
        "id": "utp0-TLswD5D",
        "outputId": "afc079e5-d63f-44db-aa25-d9583e515207"
      },
      "execution_count": null,
      "outputs": [
        {
          "output_type": "execute_result",
          "data": {
            "text/plain": [
              "0"
            ]
          },
          "metadata": {},
          "execution_count": 3
        }
      ]
    },
    {
      "cell_type": "code",
      "source": [
        "# Get the Python number within a tensor (only works with one-element tensors)\n",
        "scalar.item()"
      ],
      "metadata": {
        "colab": {
          "base_uri": "https://localhost:8080/"
        },
        "id": "_cnxqPISwPPb",
        "outputId": "2e0b4ebe-627f-4bfa-e63d-a6e79f7a2b90"
      },
      "execution_count": null,
      "outputs": [
        {
          "output_type": "execute_result",
          "data": {
            "text/plain": [
              "7"
            ]
          },
          "metadata": {},
          "execution_count": 4
        }
      ]
    },
    {
      "cell_type": "code",
      "source": [
        "# Vector\n",
        "vector = torch.tensor([7, 7])\n",
        "vector"
      ],
      "metadata": {
        "colab": {
          "base_uri": "https://localhost:8080/"
        },
        "id": "h6wSXcZYwT3X",
        "outputId": "01ea8cb3-9a98-449f-86d2-20fe24c6d6af"
      },
      "execution_count": null,
      "outputs": [
        {
          "output_type": "execute_result",
          "data": {
            "text/plain": [
              "tensor([7, 7])"
            ]
          },
          "metadata": {},
          "execution_count": 5
        }
      ]
    },
    {
      "cell_type": "code",
      "source": [
        "# Check the number of dimensions of vector\n",
        "vector.ndim"
      ],
      "metadata": {
        "colab": {
          "base_uri": "https://localhost:8080/"
        },
        "id": "Gq-2f8Qnwtab",
        "outputId": "54e7b634-aed8-4903-ad31-c915e806b4b8"
      },
      "execution_count": null,
      "outputs": [
        {
          "output_type": "execute_result",
          "data": {
            "text/plain": [
              "1"
            ]
          },
          "metadata": {},
          "execution_count": 6
        }
      ]
    },
    {
      "cell_type": "code",
      "source": [
        "# Check shape of vector\n",
        "vector.shape"
      ],
      "metadata": {
        "colab": {
          "base_uri": "https://localhost:8080/"
        },
        "id": "SqT8hcpkw2vQ",
        "outputId": "5ab7a4aa-500c-4341-be8b-2af178a6d285"
      },
      "execution_count": null,
      "outputs": [
        {
          "output_type": "execute_result",
          "data": {
            "text/plain": [
              "torch.Size([2])"
            ]
          },
          "metadata": {},
          "execution_count": 7
        }
      ]
    },
    {
      "cell_type": "code",
      "source": [
        "# Matrix\n",
        "MATRIX = torch.tensor([[7, 8],\n",
        "                       [9, 10]])\n",
        "MATRIX"
      ],
      "metadata": {
        "colab": {
          "base_uri": "https://localhost:8080/"
        },
        "id": "WVJb_Bl5xHuu",
        "outputId": "a33c71c3-9d81-4f7c-cf1d-54e227a6be49"
      },
      "execution_count": null,
      "outputs": [
        {
          "output_type": "execute_result",
          "data": {
            "text/plain": [
              "tensor([[ 7,  8],\n",
              "        [ 9, 10]])"
            ]
          },
          "metadata": {},
          "execution_count": 8
        }
      ]
    },
    {
      "cell_type": "code",
      "source": [
        "# Check number of dimensions\n",
        "MATRIX.ndim"
      ],
      "metadata": {
        "colab": {
          "base_uri": "https://localhost:8080/"
        },
        "id": "NEbplWfxxLr8",
        "outputId": "0db047ff-b6cb-4322-ba7f-f80c698860bd"
      },
      "execution_count": null,
      "outputs": [
        {
          "output_type": "execute_result",
          "data": {
            "text/plain": [
              "2"
            ]
          },
          "metadata": {},
          "execution_count": 9
        }
      ]
    },
    {
      "cell_type": "code",
      "source": [
        "MATRIX.shape"
      ],
      "metadata": {
        "colab": {
          "base_uri": "https://localhost:8080/"
        },
        "id": "WZq0h5RCxPv6",
        "outputId": "2bdc3616-ce20-4a60-8d32-5eeb5e71a1c2"
      },
      "execution_count": null,
      "outputs": [
        {
          "output_type": "execute_result",
          "data": {
            "text/plain": [
              "torch.Size([2, 2])"
            ]
          },
          "metadata": {},
          "execution_count": 10
        }
      ]
    },
    {
      "cell_type": "code",
      "source": [
        "#tensor\n",
        "TENSOR=torch.tensor([[[1,2,3,],[4,5,6],[7,8,9]]])\n",
        "TENSOR"
      ],
      "metadata": {
        "colab": {
          "base_uri": "https://localhost:8080/"
        },
        "id": "MhgNcbHRyCSM",
        "outputId": "250e2f47-e9fc-462d-e77e-e4fb788f91c2"
      },
      "execution_count": null,
      "outputs": [
        {
          "output_type": "execute_result",
          "data": {
            "text/plain": [
              "tensor([[[1, 2, 3],\n",
              "         [4, 5, 6],\n",
              "         [7, 8, 9]]])"
            ]
          },
          "metadata": {},
          "execution_count": 11
        }
      ]
    },
    {
      "cell_type": "code",
      "source": [
        "TENSOR.ndim\n",
        "\n"
      ],
      "metadata": {
        "colab": {
          "base_uri": "https://localhost:8080/"
        },
        "id": "lBNEDFsdyY6v",
        "outputId": "cd8b415f-5985-4ae8-af18-1fa616e713b4"
      },
      "execution_count": null,
      "outputs": [
        {
          "output_type": "execute_result",
          "data": {
            "text/plain": [
              "3"
            ]
          },
          "metadata": {},
          "execution_count": 18
        }
      ]
    },
    {
      "cell_type": "code",
      "source": [
        "TENSOR.shape"
      ],
      "metadata": {
        "colab": {
          "base_uri": "https://localhost:8080/"
        },
        "id": "EPY-mj13y1cz",
        "outputId": "22d0780c-f02a-44c6-dcbb-c9aadea26b61"
      },
      "execution_count": null,
      "outputs": [
        {
          "output_type": "execute_result",
          "data": {
            "text/plain": [
              "torch.Size([1, 3, 3])"
            ]
          },
          "metadata": {},
          "execution_count": 19
        }
      ]
    },
    {
      "cell_type": "markdown",
      "source": [],
      "metadata": {
        "id": "BJhw59JhyUNe"
      }
    },
    {
      "cell_type": "code",
      "source": [
        "TENSOR1=torch.tensor([[[1,1,1,2,3,4],[5,1,1,6,7,8],[9,1,1,10,11,12],[13,1,1,14,15,16],[17,1,1,18,19,20],[2,1,1,22,11,44]]])\n",
        "TENSOR1"
      ],
      "metadata": {
        "colab": {
          "base_uri": "https://localhost:8080/"
        },
        "id": "YFVt5Mmf0ZAz",
        "outputId": "207ff41b-d475-4ddd-a3a4-4252f90198ad"
      },
      "execution_count": null,
      "outputs": [
        {
          "output_type": "execute_result",
          "data": {
            "text/plain": [
              "tensor([[[ 1,  1,  1,  2,  3,  4],\n",
              "         [ 5,  1,  1,  6,  7,  8],\n",
              "         [ 9,  1,  1, 10, 11, 12],\n",
              "         [13,  1,  1, 14, 15, 16],\n",
              "         [17,  1,  1, 18, 19, 20],\n",
              "         [ 2,  1,  1, 22, 11, 44]]])"
            ]
          },
          "metadata": {},
          "execution_count": 32
        }
      ]
    },
    {
      "cell_type": "code",
      "source": [
        "TENSOR1.ndim"
      ],
      "metadata": {
        "colab": {
          "base_uri": "https://localhost:8080/"
        },
        "id": "MiFleUPd1H_U",
        "outputId": "46da5ad9-7b64-45d0-b2e5-41ed0d2c9e16"
      },
      "execution_count": null,
      "outputs": [
        {
          "output_type": "execute_result",
          "data": {
            "text/plain": [
              "3"
            ]
          },
          "metadata": {},
          "execution_count": 33
        }
      ]
    },
    {
      "cell_type": "code",
      "source": [
        "TENSOR1.shape"
      ],
      "metadata": {
        "colab": {
          "base_uri": "https://localhost:8080/"
        },
        "id": "86-PxDZQ1V4a",
        "outputId": "bf252d1d-a935-4f62-a897-b7eef3b44031"
      },
      "execution_count": null,
      "outputs": [
        {
          "output_type": "execute_result",
          "data": {
            "text/plain": [
              "torch.Size([1, 6, 6])"
            ]
          },
          "metadata": {},
          "execution_count": 34
        }
      ]
    },
    {
      "cell_type": "code",
      "source": [
        "M=torch.tensor([[[11,22,33],[1,2,3],[44,55,66]],[[17,2,3],[3,2,1],[2,2,1]]])\n",
        "M\n"
      ],
      "metadata": {
        "colab": {
          "base_uri": "https://localhost:8080/"
        },
        "id": "rxSMgzLH2Pk5",
        "outputId": "505507ed-8d6e-43fc-dc0f-6a6bacb0f519"
      },
      "execution_count": null,
      "outputs": [
        {
          "output_type": "execute_result",
          "data": {
            "text/plain": [
              "tensor([[[11, 22, 33],\n",
              "         [ 1,  2,  3],\n",
              "         [44, 55, 66]],\n",
              "\n",
              "        [[17,  2,  3],\n",
              "         [ 3,  2,  1],\n",
              "         [ 2,  2,  1]]])"
            ]
          },
          "metadata": {},
          "execution_count": 41
        }
      ]
    },
    {
      "cell_type": "code",
      "source": [
        "M.ndim"
      ],
      "metadata": {
        "colab": {
          "base_uri": "https://localhost:8080/"
        },
        "id": "U71mpmyY3bjg",
        "outputId": "c3a06b4c-2827-4a84-f71c-80534c3ed940"
      },
      "execution_count": null,
      "outputs": [
        {
          "output_type": "execute_result",
          "data": {
            "text/plain": [
              "3"
            ]
          },
          "metadata": {},
          "execution_count": 42
        }
      ]
    },
    {
      "cell_type": "code",
      "source": [
        "M.shape"
      ],
      "metadata": {
        "colab": {
          "base_uri": "https://localhost:8080/"
        },
        "id": "NoMdcJO03eDo",
        "outputId": "fae45326-1b38-4093-9d37-8565a1bc047b"
      },
      "execution_count": null,
      "outputs": [
        {
          "output_type": "execute_result",
          "data": {
            "text/plain": [
              "torch.Size([2, 3, 3])"
            ]
          },
          "metadata": {},
          "execution_count": 43
        }
      ]
    },
    {
      "cell_type": "code",
      "source": [
        "# Create a random tensor of size (3, 4)\n",
        "random_tensor = torch.rand(size=(3, 4))\n",
        "random_tensor, random_tensor.dtype"
      ],
      "metadata": {
        "colab": {
          "base_uri": "https://localhost:8080/"
        },
        "id": "qbHoN-0Q69yS",
        "outputId": "dce7be72-1be0-4c80-df46-74dfe6fd736f"
      },
      "execution_count": null,
      "outputs": [
        {
          "output_type": "execute_result",
          "data": {
            "text/plain": [
              "(tensor([[0.2763, 0.9379, 0.9452, 0.6316],\n",
              "         [0.3237, 0.3347, 0.2818, 0.8446],\n",
              "         [0.2755, 0.2364, 0.2667, 0.1930]]),\n",
              " torch.float32)"
            ]
          },
          "metadata": {},
          "execution_count": 4
        }
      ]
    },
    {
      "cell_type": "code",
      "source": [
        "# Create a random tensor of size (3, 4)\n",
        "random_tensor = torch.rand(3,3,4)\n",
        "random_tensor, random_tensor.dtype\n"
      ],
      "metadata": {
        "colab": {
          "base_uri": "https://localhost:8080/"
        },
        "id": "QhMwm3aR7azk",
        "outputId": "cb0097da-3b5a-4628-b56c-722bfbc6aaf9"
      },
      "execution_count": null,
      "outputs": [
        {
          "output_type": "execute_result",
          "data": {
            "text/plain": [
              "(tensor([[[0.5304, 0.3133, 0.0090, 0.4653],\n",
              "          [0.5346, 0.9440, 0.9417, 0.3211],\n",
              "          [0.9195, 0.2567, 0.4422, 0.3566]],\n",
              " \n",
              "         [[0.9654, 0.2115, 0.9290, 0.3053],\n",
              "          [0.5527, 0.8239, 0.6007, 0.8920],\n",
              "          [0.1910, 0.8158, 0.0399, 0.0583]],\n",
              " \n",
              "         [[0.0551, 0.3083, 0.3682, 0.5037],\n",
              "          [0.9163, 0.9697, 0.1785, 0.0755],\n",
              "          [0.0013, 0.7956, 0.6148, 0.2972]]]),\n",
              " torch.float32)"
            ]
          },
          "metadata": {},
          "execution_count": 8
        }
      ]
    },
    {
      "cell_type": "code",
      "source": [
        "# create random tensor of size (3,224,224)\n",
        "random_image_size_tensor=torch.rand(size=(3,224,224))\n",
        "random_image_size_tensor, random_image_size_tensor.dtype\n",
        "random_image_size_tensor.ndim"
      ],
      "metadata": {
        "colab": {
          "base_uri": "https://localhost:8080/"
        },
        "id": "g39wLuUq8DzT",
        "outputId": "3b7a5a2a-60e5-4536-c0f6-f5b35b95774b"
      },
      "execution_count": null,
      "outputs": [
        {
          "output_type": "execute_result",
          "data": {
            "text/plain": [
              "3"
            ]
          },
          "metadata": {},
          "execution_count": 12
        }
      ]
    },
    {
      "cell_type": "code",
      "source": [
        "# create zeros tensors and ones tensores\n",
        "zeros=torch.zeros(5,6)\n",
        "ones=torch.ones(7,7)\n",
        "zeros,ones"
      ],
      "metadata": {
        "colab": {
          "base_uri": "https://localhost:8080/"
        },
        "id": "rA8qEJ5iArUf",
        "outputId": "d1613a95-1891-4450-dde5-77e99fdb4663"
      },
      "execution_count": null,
      "outputs": [
        {
          "output_type": "execute_result",
          "data": {
            "text/plain": [
              "(tensor([[0., 0., 0., 0., 0., 0.],\n",
              "         [0., 0., 0., 0., 0., 0.],\n",
              "         [0., 0., 0., 0., 0., 0.],\n",
              "         [0., 0., 0., 0., 0., 0.],\n",
              "         [0., 0., 0., 0., 0., 0.]]),\n",
              " tensor([[1., 1., 1., 1., 1., 1., 1.],\n",
              "         [1., 1., 1., 1., 1., 1., 1.],\n",
              "         [1., 1., 1., 1., 1., 1., 1.],\n",
              "         [1., 1., 1., 1., 1., 1., 1.],\n",
              "         [1., 1., 1., 1., 1., 1., 1.],\n",
              "         [1., 1., 1., 1., 1., 1., 1.],\n",
              "         [1., 1., 1., 1., 1., 1., 1.]]))"
            ]
          },
          "metadata": {},
          "execution_count": 13
        }
      ]
    },
    {
      "cell_type": "markdown",
      "source": [
        "# Creating tensor of using arange and alike function\n"
      ],
      "metadata": {
        "id": "RBAQeL-9COPj"
      }
    },
    {
      "cell_type": "code",
      "source": [
        "one_to_fifty=torch.arange(start=1,end=51,step=3)\n",
        "one_to_fifty"
      ],
      "metadata": {
        "colab": {
          "base_uri": "https://localhost:8080/"
        },
        "id": "DILtOP_tCYE8",
        "outputId": "116f0fd4-56f0-459a-8861-2d3dd121767a"
      },
      "execution_count": null,
      "outputs": [
        {
          "output_type": "execute_result",
          "data": {
            "text/plain": [
              "tensor([ 1,  4,  7, 10, 13, 16, 19, 22, 25, 28, 31, 34, 37, 40, 43, 46, 49])"
            ]
          },
          "metadata": {},
          "execution_count": 14
        }
      ]
    },
    {
      "cell_type": "code",
      "source": [
        "ten_zeros=torch.zeros_like(input=one_to_fifty)\n",
        "ten_zeros\n"
      ],
      "metadata": {
        "colab": {
          "base_uri": "https://localhost:8080/"
        },
        "id": "5LUvds-jFp1l",
        "outputId": "47c6322a-46ca-462a-df9b-95c0f4222e29"
      },
      "execution_count": null,
      "outputs": [
        {
          "output_type": "execute_result",
          "data": {
            "text/plain": [
              "tensor([0, 0, 0, 0, 0, 0, 0, 0, 0, 0, 0, 0, 0, 0, 0, 0, 0])"
            ]
          },
          "metadata": {},
          "execution_count": 18
        }
      ]
    },
    {
      "cell_type": "code",
      "source": [
        "ten_ones=torch.ones_like(input=one_to_fifty)\n",
        "ten_ones"
      ],
      "metadata": {
        "colab": {
          "base_uri": "https://localhost:8080/"
        },
        "id": "FBJEvSNbGYjn",
        "outputId": "fb20ca6f-a834-478a-eb41-10ec8cabb771"
      },
      "execution_count": null,
      "outputs": [
        {
          "output_type": "execute_result",
          "data": {
            "text/plain": [
              "tensor([1, 1, 1, 1, 1, 1, 1, 1, 1, 1, 1, 1, 1, 1, 1, 1, 1])"
            ]
          },
          "metadata": {},
          "execution_count": 19
        }
      ]
    },
    {
      "cell_type": "code",
      "source": [
        "rand_tensor_number=torch.rand(2,4)\n",
        "rand_tensor_number\n"
      ],
      "metadata": {
        "colab": {
          "base_uri": "https://localhost:8080/"
        },
        "id": "7vdjhSifGdK0",
        "outputId": "b4d6b3eb-3610-478a-d0a2-c87ba927bfad"
      },
      "execution_count": null,
      "outputs": [
        {
          "output_type": "execute_result",
          "data": {
            "text/plain": [
              "tensor([[0.1956, 0.3152, 0.9564, 0.1532],\n",
              "        [0.4274, 0.7423, 0.6768, 0.4508]])"
            ]
          },
          "metadata": {},
          "execution_count": 23
        }
      ]
    },
    {
      "cell_type": "code",
      "source": [
        "rand_tensor=torch.rand_like(input=rand_tensor_number)\n",
        "rand_tensor"
      ],
      "metadata": {
        "id": "7MfUWOqIHcnf",
        "outputId": "2d9572c5-377d-4c4c-adba-fde0fb580b07",
        "colab": {
          "base_uri": "https://localhost:8080/"
        }
      },
      "execution_count": null,
      "outputs": [
        {
          "output_type": "execute_result",
          "data": {
            "text/plain": [
              "tensor([[0.8445, 0.2755, 0.4805, 0.0900],\n",
              "        [0.4361, 0.3669, 0.7598, 0.9279]])"
            ]
          },
          "metadata": {},
          "execution_count": 24
        }
      ]
    },
    {
      "cell_type": "code",
      "source": [
        "# data type for tensor\n",
        "float_32_tensor=torch.tensor([3.8,4.3,3.0],\n",
        "                             dtype=None,\n",
        "                             device=None,\n",
        "                             requires_grad=False)\n",
        "float_32_tensor.dtype, float_32_tensor.device"
      ],
      "metadata": {
        "colab": {
          "base_uri": "https://localhost:8080/"
        },
        "id": "LnUq-6H4KRFW",
        "outputId": "6a1729b0-863c-43af-a6a9-616ac6557ede"
      },
      "execution_count": null,
      "outputs": [
        {
          "output_type": "execute_result",
          "data": {
            "text/plain": [
              "(torch.float32, device(type='cpu'))"
            ]
          },
          "metadata": {},
          "execution_count": 2
        }
      ]
    },
    {
      "cell_type": "code",
      "source": [
        "# float 16\n",
        "float_16_tensor=torch.tensor([3.0,6.0,2.2],\n",
        "                             dtype=torch.float16)\n",
        "float_16_tensor.dtype"
      ],
      "metadata": {
        "colab": {
          "base_uri": "https://localhost:8080/"
        },
        "id": "zC3LBxkNMeyH",
        "outputId": "2e39c4b9-48d2-4167-f7a8-df4c60d4ce65"
      },
      "execution_count": null,
      "outputs": [
        {
          "output_type": "execute_result",
          "data": {
            "text/plain": [
              "torch.float16"
            ]
          },
          "metadata": {},
          "execution_count": 4
        }
      ]
    },
    {
      "cell_type": "code",
      "source": [
        "#covert float 32 to 16\n",
        "float_16_tensor=float_32_tensor.type(torch.float16)\n",
        "float_16_tensor"
      ],
      "metadata": {
        "colab": {
          "base_uri": "https://localhost:8080/"
        },
        "id": "NCwv8pgeOEBu",
        "outputId": "db5c67f7-61bd-4566-aca3-92ea3363ff06"
      },
      "execution_count": null,
      "outputs": [
        {
          "output_type": "execute_result",
          "data": {
            "text/plain": [
              "tensor([3.8008, 4.3008, 3.0000], dtype=torch.float16)"
            ]
          },
          "metadata": {},
          "execution_count": 7
        }
      ]
    },
    {
      "cell_type": "code",
      "source": [
        "#find out details about some tensor\n",
        "some_tensor=torch.rand(3,4)\n",
        "some_tensor\n",
        "print(some_tensor)\n",
        "print(f'DataType of Tensor: {some_tensor.dtype}')\n",
        "print(f'Shape of Tensor:    {some_tensor.shape}')\n",
        "print(f'Device of Tensor:   {some_tensor.device}')\n",
        "print(f'Size of Tensor:     {some_tensor.size()}')"
      ],
      "metadata": {
        "colab": {
          "base_uri": "https://localhost:8080/"
        },
        "id": "3wPvvOXfR7tK",
        "outputId": "e7660228-6a25-447c-9cf3-98a2c74a633c"
      },
      "execution_count": null,
      "outputs": [
        {
          "output_type": "stream",
          "name": "stdout",
          "text": [
            "tensor([[0.6044, 0.6378, 0.2975, 0.7116],\n",
            "        [0.4190, 0.2404, 0.9824, 0.1551],\n",
            "        [0.9518, 0.1838, 0.9175, 0.1470]])\n",
            "DataType of Tensor: torch.float32\n",
            "Shape of Tensor:    torch.Size([3, 4])\n",
            "Device of Tensor:   cpu\n",
            "Size of Tensor:     torch.Size([3, 4])\n"
          ]
        }
      ]
    },
    {
      "cell_type": "markdown",
      "source": [
        "Manipulating tensors (tensor operations)¶\n",
        "\n",
        "These operations are often a wonderful dance between:\n",
        "\n",
        "Addition\n",
        "Substraction\n",
        "Multiplication (element-wise)\n",
        "Division\n",
        "Matrix multiplication\n",
        "\n",
        "\n"
      ],
      "metadata": {
        "id": "E8zUjF2oUWtJ"
      }
    },
    {
      "cell_type": "code",
      "source": [
        "# Create a tensor of values and add a number to it\n",
        "tensor = torch.tensor([1, 2, 3])\n",
        "tensor + 10"
      ],
      "metadata": {
        "colab": {
          "base_uri": "https://localhost:8080/"
        },
        "id": "lK9EBOLlUlCk",
        "outputId": "17b9aea7-8b6f-46a8-d9f5-81ab173a7464"
      },
      "execution_count": null,
      "outputs": [
        {
          "output_type": "execute_result",
          "data": {
            "text/plain": [
              "tensor([11, 12, 13])"
            ]
          },
          "metadata": {},
          "execution_count": 21
        }
      ]
    },
    {
      "cell_type": "code",
      "source": [
        "# Multiply it by 10\n",
        "tensor * 1000"
      ],
      "metadata": {
        "colab": {
          "base_uri": "https://localhost:8080/"
        },
        "id": "gB5VyL4CUxOn",
        "outputId": "0bc10fd8-24c3-43ae-c9b4-8ee340da6e10"
      },
      "execution_count": null,
      "outputs": [
        {
          "output_type": "execute_result",
          "data": {
            "text/plain": [
              "tensor([1000, 2000, 3000])"
            ]
          },
          "metadata": {},
          "execution_count": 22
        }
      ]
    },
    {
      "cell_type": "code",
      "source": [
        "# Subtract and reassign\n",
        "tensor = tensor - 10\n",
        "tensor"
      ],
      "metadata": {
        "colab": {
          "base_uri": "https://localhost:8080/"
        },
        "id": "mXI4CLZXVJee",
        "outputId": "342be2b7-1d71-4a42-ce73-543bf2a38ec4"
      },
      "execution_count": null,
      "outputs": [
        {
          "output_type": "execute_result",
          "data": {
            "text/plain": [
              "tensor([-9, -8, -7])"
            ]
          },
          "metadata": {},
          "execution_count": 23
        }
      ]
    },
    {
      "cell_type": "code",
      "source": [
        "# Add and reassign\n",
        "tensor = tensor + 10\n",
        "tensor"
      ],
      "metadata": {
        "colab": {
          "base_uri": "https://localhost:8080/"
        },
        "id": "1dgIP35cVh_C",
        "outputId": "14c3bb28-89f4-44a0-f9ad-1399ec51957a"
      },
      "execution_count": null,
      "outputs": [
        {
          "output_type": "execute_result",
          "data": {
            "text/plain": [
              "tensor([1, 2, 3])"
            ]
          },
          "metadata": {},
          "execution_count": 24
        }
      ]
    },
    {
      "cell_type": "markdown",
      "source": [
        "Matrix multiplication (is all you need)"
      ],
      "metadata": {
        "id": "3xGa0N_NqtW_"
      }
    },
    {
      "cell_type": "code",
      "source": [
        "\n",
        "tensor=torch.tensor([1,2,3])\n",
        "print(tensor,'*',tensor)\n",
        "print(f\"equals: {tensor *tensor }\")"
      ],
      "metadata": {
        "colab": {
          "base_uri": "https://localhost:8080/"
        },
        "id": "FJhT_L0Lq5yH",
        "outputId": "87a566c5-a191-46ae-a0b4-e14928025439"
      },
      "execution_count": 4,
      "outputs": [
        {
          "output_type": "stream",
          "name": "stdout",
          "text": [
            "tensor([1, 2, 3]) * tensor([1, 2, 3])\n",
            "equals: tensor([1, 4, 9])\n"
          ]
        }
      ]
    },
    {
      "cell_type": "code",
      "source": [
        "torch.matmul(tensor,tensor)"
      ],
      "metadata": {
        "colab": {
          "base_uri": "https://localhost:8080/"
        },
        "id": "Puvk_urnuEe2",
        "outputId": "23efd00f-8ac7-4998-fe6a-0520c91e4b9f"
      },
      "execution_count": 5,
      "outputs": [
        {
          "output_type": "execute_result",
          "data": {
            "text/plain": [
              "tensor(14)"
            ]
          },
          "metadata": {},
          "execution_count": 5
        }
      ]
    },
    {
      "cell_type": "code",
      "source": [
        "%%time\n",
        "value=0\n",
        "for i in range(len(tensor)):\n",
        "  value +=tensor[i]*tensor[i]\n",
        "print(value)\n"
      ],
      "metadata": {
        "colab": {
          "base_uri": "https://localhost:8080/"
        },
        "id": "Vaegya8_uuXu",
        "outputId": "3117d6c0-04f3-473c-a867-298efb1123a6"
      },
      "execution_count": 7,
      "outputs": [
        {
          "output_type": "stream",
          "name": "stdout",
          "text": [
            "tensor(14)\n",
            "CPU times: user 3.22 ms, sys: 0 ns, total: 3.22 ms\n",
            "Wall time: 3.07 ms\n"
          ]
        }
      ]
    },
    {
      "cell_type": "code",
      "source": [
        "%%time\n",
        "torch.matmul(tensor,tensor)"
      ],
      "metadata": {
        "colab": {
          "base_uri": "https://localhost:8080/"
        },
        "id": "8LRn0J2lvHVP",
        "outputId": "e78b4670-0534-4042-89e4-663469bb3d67"
      },
      "execution_count": 9,
      "outputs": [
        {
          "output_type": "stream",
          "name": "stdout",
          "text": [
            "CPU times: user 1.16 ms, sys: 10 µs, total: 1.17 ms\n",
            "Wall time: 1.19 ms\n"
          ]
        },
        {
          "output_type": "execute_result",
          "data": {
            "text/plain": [
              "tensor(14)"
            ]
          },
          "metadata": {},
          "execution_count": 9
        }
      ]
    },
    {
      "cell_type": "code",
      "source": [
        "torch.matmul(torch.rand(3,2), torch.rand(2,3))\n",
        "torch.matmul(torch.rand(4,2), torch.rand(2,4))"
      ],
      "metadata": {
        "colab": {
          "base_uri": "https://localhost:8080/"
        },
        "id": "x2jGkP8jz6kf",
        "outputId": "8627abdf-77c5-4bc5-d5b7-3b5672d89f43"
      },
      "execution_count": 13,
      "outputs": [
        {
          "output_type": "execute_result",
          "data": {
            "text/plain": [
              "tensor([[0.1686, 0.2539, 0.4198, 0.3245],\n",
              "        [0.1594, 0.5611, 0.1241, 0.5626],\n",
              "        [0.2308, 0.5717, 0.3841, 0.6228],\n",
              "        [0.0502, 0.0474, 0.1489, 0.0742]])"
            ]
          },
          "metadata": {},
          "execution_count": 13
        }
      ]
    },
    {
      "cell_type": "code",
      "source": [
        "tensor_A=torch.tensor(([1,2],\n",
        "                      [3,4],\n",
        "                      [5,6]))\n",
        "tensor_B=torch.tensor(([1,2],\n",
        "                      [3,4],\n",
        "                      [5,6]))"
      ],
      "metadata": {
        "id": "dTKXm8s24h3p"
      },
      "execution_count": 16,
      "outputs": []
    },
    {
      "cell_type": "code",
      "source": [
        "print(f'Orginal Shape : Tensor_A {tensor_A.shape} , Tensor_B{tensor_B.shape}\\n')\n",
        "print(f'new Shape: Tensor_A {tensor_A.T.shape}, Tensor_B{tensor_B.shape}\\n')\n",
        "print(f' multipication : {tensor_A.T} *{tensor_B} <- inner dimention match \\n')\n",
        "print(f'output: \\n')\n",
        "output=torch.matmul(tensor_A.T,tensor_B)\n",
        "print(output)\n",
        "print(f'output: {output.shape}')"
      ],
      "metadata": {
        "colab": {
          "base_uri": "https://localhost:8080/"
        },
        "id": "Vkx55vFG5cXq",
        "outputId": "078e4c59-10c1-4f77-b10d-30e13e020891"
      },
      "execution_count": 19,
      "outputs": [
        {
          "output_type": "stream",
          "name": "stdout",
          "text": [
            "Orginal Shape : Tensor_A torch.Size([3, 2]) , Tensor_Btorch.Size([3, 2])\n",
            "\n",
            "new Shape: Tensor_A torch.Size([2, 3]), Tensor_Btorch.Size([3, 2])\n",
            "\n",
            " multipication : tensor([[1, 3, 5],\n",
            "        [2, 4, 6]]) *tensor([[1, 2],\n",
            "        [3, 4],\n",
            "        [5, 6]]) <- inner dimention match \n",
            "\n",
            "output: \n",
            "\n",
            "tensor([[35, 44],\n",
            "        [44, 56]])\n",
            "output: torch.Size([2, 2])\n"
          ]
        }
      ]
    }
  ]
}