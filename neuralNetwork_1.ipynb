{
  "nbformat": 4,
  "nbformat_minor": 0,
  "metadata": {
    "colab": {
      "provenance": [],
      "toc_visible": true,
      "authorship_tag": "ABX9TyPYORkHimXO2A/M1B3HYKQK",
      "include_colab_link": true
    },
    "kernelspec": {
      "name": "python3",
      "display_name": "Python 3"
    },
    "language_info": {
      "name": "python"
    }
  },
  "cells": [
    {
      "cell_type": "markdown",
      "metadata": {
        "id": "view-in-github",
        "colab_type": "text"
      },
      "source": [
        "<a href=\"https://colab.research.google.com/github/rawanaldaneen/pytorch_row/blob/main/neuralNetwork_1.ipynb\" target=\"_parent\"><img src=\"https://colab.research.google.com/assets/colab-badge.svg\" alt=\"Open In Colab\"/></a>"
      ]
    },
    {
      "cell_type": "code",
      "execution_count": 2,
      "metadata": {
        "id": "ESARnvUj9uWw"
      },
      "outputs": [],
      "source": [
        "import torch\n",
        "import torch.nn as nn\n",
        "import torch.nn.functional as F\n"
      ]
    },
    {
      "cell_type": "code",
      "source": [
        "# craete Model Calss that inhereits nn.Module\n",
        "class Model(nn.Module):\n",
        "  # input layer ( 4 features of flower)\n",
        "  # hidden layer1 (8 neurons)\n",
        "  # h2 (n)....\n",
        "  #output layer(3 classes of iris flowers)\n",
        "\n",
        "  def __init__(self,in_features=4 ,h1=8 ,h2=9 ,out_features=3):\n",
        "     super().__init__()\n",
        "     self.f1=nn.Linear(in_features,h1)\n",
        "     self.f2=nn.Linear(h1,h2)\n",
        "     self.out=nn.Linear(h2,out_features)\n",
        "\n",
        "  def forward(self,x):\n",
        "      x=F.elu(self.f1(x))\n",
        "      x=F.elu(self.f2(x))\n",
        "      x=self.out(x)\n",
        "      return x\n",
        "# pich a manual seed for a randomzation\n",
        "torch.manual_seed(41)\n",
        "\n",
        "# creat an wxample of our model\n",
        "model=Model()"
      ],
      "metadata": {
        "id": "9IZF4zeHWAT9"
      },
      "execution_count": 11,
      "outputs": []
    }
  ]
}